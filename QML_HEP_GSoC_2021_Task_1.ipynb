{
  "nbformat": 4,
  "nbformat_minor": 0,
  "metadata": {
    "colab": {
      "name": "QML-HEP GSoC 2021 Task 1.ipynb",
      "provenance": [],
      "authorship_tag": "ABX9TyMZJ+/mllrgQEQUX6uzNXbs",
      "include_colab_link": true
    },
    "kernelspec": {
      "name": "python3",
      "display_name": "Python 3"
    },
    "language_info": {
      "name": "python"
    }
  },
  "cells": [
    {
      "cell_type": "markdown",
      "metadata": {
        "id": "view-in-github",
        "colab_type": "text"
      },
      "source": [
        "<a href=\"https://colab.research.google.com/github/Ipsit1234/QML-HEP-Evaluation-Test-GSOC-2021/blob/main/QML_HEP_GSoC_2021_Task_1.ipynb\" target=\"_parent\"><img src=\"https://colab.research.google.com/assets/colab-badge.svg\" alt=\"Open In Colab\"/></a>"
      ]
    },
    {
      "cell_type": "markdown",
      "metadata": {
        "id": "cmrifUHYQoh8"
      },
      "source": [
        "# Task I: Quantum Computing Part\n",
        "1. implement a simple quantum operation with Cirq  \n",
        "  a. With 5 qubits  \n",
        "  b. Apply Hadamard operation on every qubit  \n",
        "  c. Apply CNOT operation on (0,1), (1,2), (2, 3), (3, 4)  \n",
        "  d. SWAP (0, 4)  \n",
        "  e. Rotate X with pi/2  \n",
        "  f. Plot the circuit\n",
        "\n",
        "\n"
      ]
    },
    {
      "cell_type": "code",
      "metadata": {
        "id": "o3tYEFGLQkM0"
      },
      "source": [
        "!pip install --quiet cirq\n",
        "import cirq\n",
        "import numpy as np\n",
        "%matplotlib inline\n",
        "from matplotlib import pyplot as plt"
      ],
      "execution_count": 1,
      "outputs": []
    },
    {
      "cell_type": "code",
      "metadata": {
        "colab": {
          "base_uri": "https://localhost:8080/"
        },
        "id": "yh-NrQr8Q_us",
        "outputId": "5ddfc2d6-0f8d-41a1-cec7-4a12f38845e3"
      },
      "source": [
        "circuit = cirq.Circuit([cirq.H(q) for q in cirq.LineQubit.range(5)]) # circuit with 5 qubits and applying Hadamard on every qubit\n",
        "circuit.append([cirq.CNOT(q, q+1) for q in cirq.LineQubit.range(4)]) # adding CNOT operation on (0,1), (1,2), (2, 3), (3, 4) \n",
        "circuit.append([cirq.SWAP(q, q+4) for q in cirq.LineQubit.range(1)]) # adding SWAP (0, 4)\n",
        "circuit.append([cirq.rx(np.pi/2).on(q) for q in cirq.LineQubit.range(5)]) # adding rotate X with pi/2\n",
        "print(circuit) # plotting the circuit"
      ],
      "execution_count": 2,
      "outputs": [
        {
          "output_type": "stream",
          "text": [
            "                                        ┌─────────┐\n",
            "0: ───H───@──────────────────────────────×────────────Rx(0.5π)───\n",
            "          │                              │\n",
            "1: ───H───X───@───Rx(0.5π)───────────────┼───────────────────────\n",
            "              │                          │\n",
            "2: ───H───────X───@──────────Rx(0.5π)────┼───────────────────────\n",
            "                  │                      │\n",
            "3: ───H───────────X──────────@───────────┼Rx(0.5π)───────────────\n",
            "                             │           │\n",
            "4: ───H──────────────────────X───────────×────────────Rx(0.5π)───\n",
            "                                        └─────────┘\n"
          ],
          "name": "stdout"
        }
      ]
    },
    {
      "cell_type": "markdown",
      "metadata": {
        "id": "OHcs1VczQwPj"
      },
      "source": [
        "2. Create a circuit that is a series of small cirq.Rx rotations and plot the probability\n",
        "of measuring the state in the |0⟩ state."
      ]
    },
    {
      "cell_type": "code",
      "metadata": {
        "colab": {
          "base_uri": "https://localhost:8080/"
        },
        "id": "PJGCUqHSQwtF",
        "outputId": "1606ddac-c4d3-48fc-a597-b07a16561bb4"
      },
      "source": [
        "rot1 = cirq.rx(0.01) # small rotation angle 1\n",
        "rot2 = cirq.rx(0.001) # small rotation angle 2\n",
        "rot3 = cirq.rx(1) # small rotation angle 3\n",
        "q = cirq.NamedQubit('qubit') # declared a qubit with name 'qubit'\n",
        "circuit = cirq.Circuit([rot1(q), rot2(q), rot3(q)]) # creating a circuit with 3 small rotations in series\n",
        "print(circuit) # printing the circuit\n",
        "\n",
        "s = cirq.Simulator() # declaring the circuit simulator\n",
        "result = s.simulate(circuit) # simulating the circuit\n",
        "state_vector = result.final_state_vector # getting the final state vector\n",
        "print('Probability of measuring the state in the |0> state is:', np.abs(state_vector[0])**2) # Probability of measuring 0\n",
        "                                                                                             # is |alpha|^2 if final state vector\n",
        "                                                                                             # is [alpha, beta]^T in (|0>, |1>) basis"
      ],
      "execution_count": 3,
      "outputs": [
        {
          "output_type": "stream",
          "text": [
            "qubit: ───Rx(0.003π)───Rx(0)───Rx(0.318π)───\n",
            "Probability of measuring the state in the |0> state is: 0.7655067191510767\n"
          ],
          "name": "stdout"
        }
      ]
    },
    {
      "cell_type": "code",
      "metadata": {
        "id": "OvexN_JCQ806"
      },
      "source": [
        ""
      ],
      "execution_count": 3,
      "outputs": []
    }
  ]
}